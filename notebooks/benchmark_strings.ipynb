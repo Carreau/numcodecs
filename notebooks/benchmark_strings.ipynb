{
 "cells": [
  {
   "cell_type": "markdown",
   "metadata": {},
   "source": [
    "## Setup"
   ]
  },
  {
   "cell_type": "code",
   "execution_count": 1,
   "metadata": {},
   "outputs": [
    {
     "data": {
      "text/plain": [
       "'0.4.2.dev2+dirty'"
      ]
     },
     "execution_count": 1,
     "metadata": {},
     "output_type": "execute_result"
    }
   ],
   "source": [
    "import numpy as np\n",
    "import numcodecs\n",
    "numcodecs.__version__"
   ]
  },
  {
   "cell_type": "code",
   "execution_count": 2,
   "metadata": {},
   "outputs": [],
   "source": [
    "import fastparquet\n",
    "\n",
    "\n",
    "class FastParquetCodec(numcodecs.abc.Codec):\n",
    "    \"\"\"Hacked codec using fastparquet utf8 encoding, for benchmarking purposes only.\"\"\"\n",
    "    \n",
    "    codec_id = 'xxx-fastparquet'\n",
    "    \n",
    "    def encode(self, buf):\n",
    "        buf = np.asanyarray(buf)\n",
    "        n = buf.size\n",
    "        ba = fastparquet.speedups.array_encode_utf8(buf)\n",
    "        enc = fastparquet.speedups.pack_byte_array(ba.tolist())\n",
    "        return n, enc  # hack for now, return n\n",
    "    \n",
    "    def decode(self, data, out=None):\n",
    "        n, enc = data\n",
    "        ba = fastparquet.speedups.unpack_byte_array(enc, n)\n",
    "        dec = fastparquet.speedups.array_decode_utf8(np.array(ba, dtype=object))\n",
    "        if out is not None:\n",
    "            out[:] = dec\n",
    "            return out\n",
    "        return dec"
   ]
  },
  {
   "cell_type": "code",
   "execution_count": 3,
   "metadata": {},
   "outputs": [],
   "source": [
    "zstd1 = numcodecs.Zstd(1)\n",
    "zstd5 = numcodecs.Zstd(5)\n",
    "zstd9 = numcodecs.Zstd(9)\n",
    "\n",
    "\n",
    "def benchmark_codec(codec, a):\n",
    "    print(codec)\n",
    "    print('encode')\n",
    "    %timeit codec.encode(a)\n",
    "    enc = codec.encode(a)\n",
    "    print('decode')\n",
    "    %timeit codec.decode(enc)\n",
    "    if isinstance(codec, FastParquetCodec):\n",
    "        enc = enc[1]  # hack\n",
    "    print('size         : {:,}'.format(len(enc)))\n",
    "    print('size (zstd 1): {:,}'.format(len(zstd1.encode(enc))))\n",
    "    print('size (zstd 5): {:,}'.format(len(zstd5.encode(enc))))\n",
    "    print('size (zstd 9): {:,}'.format(len(zstd9.encode(enc))))\n"
   ]
  },
  {
   "cell_type": "code",
   "execution_count": 4,
   "metadata": {},
   "outputs": [],
   "source": [
    "from numcodecs.tests.common import greetings\n",
    "msgpack_codec = numcodecs.MsgPack()\n",
    "json_codec = numcodecs.JSON()\n",
    "pickle_codec = numcodecs.Pickle()\n",
    "cat_codec = numcodecs.Categorize(greetings, dtype=object, astype='u1')\n",
    "vlen_codec = numcodecs.VLenUTF8()\n",
    "fp_codec = FastParquetCodec()"
   ]
  },
  {
   "cell_type": "markdown",
   "metadata": {},
   "source": [
    "## Greetings benchmark"
   ]
  },
  {
   "cell_type": "code",
   "execution_count": 5,
   "metadata": {},
   "outputs": [
    {
     "data": {
      "text/plain": [
       "array(['Γεια σου κόσμε!', 'Hei maailma!', 'Zdravo svete!', ...,\n",
       "       'Servus Woid!', 'เฮลโลเวิลด์', 'Zdravo svete!'], dtype=object)"
      ]
     },
     "execution_count": 5,
     "metadata": {},
     "output_type": "execute_result"
    }
   ],
   "source": [
    "np.random.seed(42)\n",
    "data = np.random.choice(greetings, size=1000000).astype(object)\n",
    "data"
   ]
  },
  {
   "cell_type": "code",
   "execution_count": 6,
   "metadata": {},
   "outputs": [
    {
     "name": "stdout",
     "output_type": "stream",
     "text": [
      "MsgPack(encoding='utf-8')\n",
      "encode\n",
      "127 ms ± 9.34 ms per loop (mean ± std. dev. of 7 runs, 10 loops each)\n",
      "decode\n",
      "225 ms ± 4.06 ms per loop (mean ± std. dev. of 7 runs, 1 loop each)\n",
      "size         : 18,996,503\n",
      "size (zstd 1): 1,576,435\n",
      "size (zstd 5): 1,409,320\n",
      "size (zstd 9): 1,310,380\n"
     ]
    }
   ],
   "source": [
    "benchmark_codec(msgpack_codec, data)"
   ]
  },
  {
   "cell_type": "code",
   "execution_count": 7,
   "metadata": {},
   "outputs": [
    {
     "name": "stdout",
     "output_type": "stream",
     "text": [
      "JSON(encoding='utf-8', allow_nan=True, check_circular=True, ensure_ascii=True,\n",
      "     indent=None, separators=(',', ':'), skipkeys=False, sort_keys=True,\n",
      "     strict=True)\n",
      "encode\n",
      "184 ms ± 16.5 ms per loop (mean ± std. dev. of 7 runs, 1 loop each)\n",
      "decode\n",
      "469 ms ± 44.7 ms per loop (mean ± std. dev. of 7 runs, 1 loop each)\n",
      "size         : 33,322,595\n",
      "size (zstd 1): 1,840,414\n",
      "size (zstd 5): 1,675,163\n",
      "size (zstd 9): 1,522,853\n"
     ]
    }
   ],
   "source": [
    "benchmark_codec(json_codec, data)"
   ]
  },
  {
   "cell_type": "code",
   "execution_count": 8,
   "metadata": {},
   "outputs": [
    {
     "name": "stdout",
     "output_type": "stream",
     "text": [
      "Pickle(protocol=4)\n",
      "encode\n",
      "304 ms ± 58.7 ms per loop (mean ± std. dev. of 7 runs, 1 loop each)\n",
      "decode\n",
      "225 ms ± 10.8 ms per loop (mean ± std. dev. of 7 runs, 1 loop each)\n",
      "size         : 20,835,275\n",
      "size (zstd 1): 1,608,227\n",
      "size (zstd 5): 1,436,093\n",
      "size (zstd 9): 1,333,676\n"
     ]
    }
   ],
   "source": [
    "benchmark_codec(pickle_codec, data)"
   ]
  },
  {
   "cell_type": "code",
   "execution_count": 9,
   "metadata": {},
   "outputs": [
    {
     "name": "stdout",
     "output_type": "stream",
     "text": [
      "Categorize(dtype='|O', astype='|u1', labels=['¡Hola mundo!', 'Hej Världen!', 'Servus Woid!', ...])\n",
      "encode\n",
      "286 ms ± 58.7 ms per loop (mean ± std. dev. of 7 runs, 1 loop each)\n",
      "decode\n",
      "36.7 ms ± 4.13 ms per loop (mean ± std. dev. of 7 runs, 10 loops each)\n",
      "size         : 1,000,000\n",
      "size (zstd 1): 458,191\n",
      "size (zstd 5): 493,638\n",
      "size (zstd 9): 490,483\n"
     ]
    }
   ],
   "source": [
    "benchmark_codec(cat_codec, data)"
   ]
  },
  {
   "cell_type": "code",
   "execution_count": 6,
   "metadata": {},
   "outputs": [
    {
     "name": "stdout",
     "output_type": "stream",
     "text": [
      "VLenUTF8()\n",
      "encode\n",
      "21.9 ms ± 985 µs per loop (mean ± std. dev. of 7 runs, 10 loops each)\n",
      "decode\n",
      "161 ms ± 3.37 ms per loop (mean ± std. dev. of 7 runs, 10 loops each)\n",
      "size         : 21,830,287\n",
      "size (zstd 1): 1,762,831\n",
      "size (zstd 5): 1,546,643\n",
      "size (zstd 9): 1,358,821\n"
     ]
    }
   ],
   "source": [
    "benchmark_codec(vlen_codec, data)"
   ]
  },
  {
   "cell_type": "code",
   "execution_count": 11,
   "metadata": {},
   "outputs": [
    {
     "name": "stdout",
     "output_type": "stream",
     "text": [
      "FastParquetCodec()\n",
      "encode\n",
      "89 ms ± 1.56 ms per loop (mean ± std. dev. of 7 runs, 10 loops each)\n",
      "decode\n",
      "222 ms ± 4.8 ms per loop (mean ± std. dev. of 7 runs, 1 loop each)\n",
      "size         : 21,830,271\n",
      "size (zstd 1): 1,762,809\n",
      "size (zstd 5): 1,546,612\n",
      "size (zstd 9): 1,358,813\n"
     ]
    }
   ],
   "source": [
    "benchmark_codec(fp_codec, data)"
   ]
  },
  {
   "cell_type": "markdown",
   "metadata": {},
   "source": [
    "## Lorem benchmark"
   ]
  },
  {
   "cell_type": "code",
   "execution_count": 13,
   "metadata": {},
   "outputs": [],
   "source": [
    "from faker import Faker\n",
    "fake = Faker()"
   ]
  },
  {
   "cell_type": "code",
   "execution_count": 14,
   "metadata": {},
   "outputs": [
    {
     "data": {
      "text/plain": [
       "(1101344, array(['Magnam', 'ipsam', 'ad.', 'Molestias', 'tempore', 'ipsa',\n",
       "        'corporis', 'nisi.', 'Exercitationem', 'alias'], dtype=object))"
      ]
     },
     "execution_count": 14,
     "metadata": {},
     "output_type": "execute_result"
    }
   ],
   "source": [
    "data2 = np.array(' '.join(fake.sentences(nb=200000)).split(), dtype=object)\n",
    "len(data2), data2[:10]"
   ]
  },
  {
   "cell_type": "code",
   "execution_count": 13,
   "metadata": {},
   "outputs": [
    {
     "name": "stdout",
     "output_type": "stream",
     "text": [
      "MsgPack(encoding='utf-8')\n",
      "encode\n",
      "105 ms ± 7.36 ms per loop (mean ± std. dev. of 7 runs, 10 loops each)\n",
      "decode\n",
      "170 ms ± 4.01 ms per loop (mean ± std. dev. of 7 runs, 10 loops each)\n",
      "size         : 8,380,619\n",
      "size (zstd 1): 2,631,293\n",
      "size (zstd 5): 2,358,494\n",
      "size (zstd 9): 2,265,121\n"
     ]
    }
   ],
   "source": [
    "benchmark_codec(msgpack_codec, data2)"
   ]
  },
  {
   "cell_type": "code",
   "execution_count": 14,
   "metadata": {},
   "outputs": [
    {
     "name": "stdout",
     "output_type": "stream",
     "text": [
      "JSON(encoding='utf-8', allow_nan=True, check_circular=True, ensure_ascii=True,\n",
      "     indent=None, separators=(',', ':'), skipkeys=False, sort_keys=True,\n",
      "     strict=True)\n",
      "encode\n",
      "121 ms ± 2.65 ms per loop (mean ± std. dev. of 7 runs, 10 loops each)\n",
      "decode\n",
      "141 ms ± 461 µs per loop (mean ± std. dev. of 7 runs, 10 loops each)\n",
      "size         : 10,584,987\n",
      "size (zstd 1): 2,547,087\n",
      "size (zstd 5): 2,438,584\n",
      "size (zstd 9): 2,312,637\n"
     ]
    }
   ],
   "source": [
    "benchmark_codec(json_codec, data2)"
   ]
  },
  {
   "cell_type": "code",
   "execution_count": 15,
   "metadata": {},
   "outputs": [
    {
     "name": "stdout",
     "output_type": "stream",
     "text": [
      "Pickle(protocol=4)\n",
      "encode\n",
      "242 ms ± 7.83 ms per loop (mean ± std. dev. of 7 runs, 1 loop each)\n",
      "decode\n",
      "138 ms ± 11.6 ms per loop (mean ± std. dev. of 7 runs, 10 loops each)\n",
      "size         : 10,593,806\n",
      "size (zstd 1): 2,584,223\n",
      "size (zstd 5): 2,456,961\n",
      "size (zstd 9): 2,455,358\n"
     ]
    }
   ],
   "source": [
    "benchmark_codec(pickle_codec, data2)"
   ]
  },
  {
   "cell_type": "code",
   "execution_count": 15,
   "metadata": {},
   "outputs": [
    {
     "name": "stdout",
     "output_type": "stream",
     "text": [
      "VLenUTF8()\n",
      "encode\n",
      "20.1 ms ± 844 µs per loop (mean ± std. dev. of 7 runs, 10 loops each)\n",
      "decode\n",
      "78.3 ms ± 693 µs per loop (mean ± std. dev. of 7 runs, 10 loops each)\n",
      "size         : 11,680,886\n",
      "size (zstd 1): 2,956,544\n",
      "size (zstd 5): 2,860,531\n",
      "size (zstd 9): 2,556,631\n"
     ]
    }
   ],
   "source": [
    "benchmark_codec(vlen_codec, data2)"
   ]
  },
  {
   "cell_type": "code",
   "execution_count": 16,
   "metadata": {},
   "outputs": [
    {
     "name": "stdout",
     "output_type": "stream",
     "text": [
      "FastParquetCodec()\n",
      "encode\n",
      "80.6 ms ± 3.16 ms per loop (mean ± std. dev. of 7 runs, 10 loops each)\n",
      "decode\n",
      "142 ms ± 271 µs per loop (mean ± std. dev. of 7 runs, 10 loops each)\n",
      "size         : 11,680,870\n",
      "size (zstd 1): 2,956,599\n",
      "size (zstd 5): 2,860,473\n",
      "size (zstd 9): 2,556,623\n"
     ]
    }
   ],
   "source": [
    "benchmark_codec(fp_codec, data2)"
   ]
  },
  {
   "cell_type": "code",
   "execution_count": null,
   "metadata": {},
   "outputs": [],
   "source": []
  }
 ],
 "metadata": {
  "kernelspec": {
   "display_name": "Python 3",
   "language": "python",
   "name": "python3"
  },
  "language_info": {
   "codemirror_mode": {
    "name": "ipython",
    "version": 3
   },
   "file_extension": ".py",
   "mimetype": "text/x-python",
   "name": "python",
   "nbconvert_exporter": "python",
   "pygments_lexer": "ipython3",
   "version": "3.6.1"
  }
 },
 "nbformat": 4,
 "nbformat_minor": 2
}
